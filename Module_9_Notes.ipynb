{
 "cells": [
  {
   "cell_type": "markdown",
   "metadata": {},
   "source": [
    "## Tabel of Contents \n",
    "\n",
    "[SQLAlchemy Create Engine](#a-name--sqlalchemy-create-engine-font-color--salmon-sqlalchemy-create-engine-font-aS)\n",
    "\n",
    "[SQLAlchemy Automap Base](#a-name--sqlalchemy-automap-base-font-color--salmon-sqlalchemy-automap-base-font-a)\n",
    "\n",
    "[SQLAlchemy Reflect Tables](#a-name--sqlalchemy-reflect-tables-font-color--salmon-sqlalchemy-reflect-tables-font-a)\n",
    "\n",
    "[View Classes Found by Automap](#a-name--view-classes-found-by-automap-font-color--salmon-view-classes-found-by-automap-font-a)\n",
    "\n",
    "[Save References to Each Table](#a-name--save-references-to-each-table-font-color--salmon-save-references-to-each-table-font-a)"
   ]
  },
  {
   "cell_type": "markdown",
   "metadata": {},
   "source": [
    "### <font color = 'Salmon'> SQLAlchemy ORM </font>\n",
    "\n",
    "ORM: Object Relational Mapper\n",
    "\n",
    "ORM allows you to create classes in your code that can be mapped to specific tables in a given database.\n",
    "\n",
    "This allows us to create a special type of system called a <font color = 'Red'> decoupled system. </font>\n",
    "\n",
    "the less coupling in our code, the better. If there are a bunch of relationships between all of your coding components and one of them breaks, everything breaks.\n",
    "\n",
    "The ORM helps us keep our systems decoupled.\n",
    "\n",
    "remember that your references will be to classes in your code instead of specific tables in the database, and that we'll be able to influence each class independently."
   ]
  },
  {
   "cell_type": "markdown",
   "metadata": {},
   "source": [
    "### <a name = 'SQLAlchemy Create Engine'> <font color = 'Salmon'> SQLAlchemy Create Engine </font> </a>\n",
    "\n",
    "<font color = 'Red'> Create Engine Function: </font> primary purpose is to set up the ability to query a SQLite database.\n",
    "\n",
    "In order to connect to our SQLite database, we need to use the <font color = 'Red'> create_engine() </font> function.\n",
    "\n",
    "    This function doesn't actually connect to our database; it just prepares the database file to be connected to later on.\n",
    "\n",
    "    This function will typically have one parameter, which is the location of the SQLite database file."
   ]
  },
  {
   "cell_type": "markdown",
   "metadata": {},
   "source": [
    "### <a name = 'SQLAlchemy Automap Base'> <font color = 'Salmon'> SQLAlchemy Automap Base </font> </a>\n",
    "\n",
    "<font color = 'Red'> Automap Base: </font> creates a base class for an automap schema in SQLAlchemy.\n",
    "\n",
    "Basically, it sets up a foundation for us to build on in SQLAlchemy, and by adding it to our code, it will help the rest of our code to function properly."
   ]
  },
  {
   "cell_type": "markdown",
   "metadata": {},
   "source": [
    "### <a name = 'SQLAlchemy Reflect Tables'> <font color = 'Salmon'> SQLAlchemy Reflect Tables </font> </a>\n",
    "\n",
    "<font color = 'Red'> prepare() function: </font> It will reflect the schema of our SQLite tables into our code and create mappings.\n",
    "\n",
    "<font color = 'SkyBlue'> IMPORTANT: </font> When we <font color = 'Red'> reflect </font> tables, we create classes that help keep our code separate.\n",
    "This ensures that our code is separated such that if other classes or systems want to interact with it, they can interact with only specific subsets of data instead of the whole dataset."
   ]
  },
  {
   "cell_type": "markdown",
   "metadata": {},
   "source": [
    "### <a name = 'View Classes Found by Automap'> <font color = 'Salmon'> View Classes Found by Automap </font> </a>\n",
    "\n",
    "<font color = 'Red'> Base.classes.keys() </font> This code references the classes that were mapped in each table.\n",
    "\n",
    "<font color = 'Red'> Base.classes </font> gives us access to all the classes.\n",
    "\n",
    "<font color = 'Red'> keys() </font> references all the names of the classes.\n",
    "\n",
    "<font color = 'SkyBlue'> IMPORTANT: </font>\n",
    "\n",
    "These classes help keep our data separate, or decoupled. Keep in mind that our data is no longer stored in tables, but rather in classes. The code we will run below enables us to essentially copy, or reflect, our data into different classes instead of database tables.\n",
    "\n",
    "<font color = 'DarkOrchid'> CODE: </font> Base.classes.keys()"
   ]
  },
  {
   "cell_type": "markdown",
   "metadata": {},
   "source": [
    "#### <a name = 'Save References to Each Table'> <font color = 'Salmon'> Save References to Each Table </font> </a>\n",
    "\n",
    "In order to reference a specific class, we use <font color = 'Red'> Base.classes.class name </font>\n",
    "\n",
    "we can give the classes new variable names.\n",
    "\n",
    "In this case, we will create new references for our <font color = 'Red'> Measurement </font> class and <font color = 'Red'> Station </font> class. Add these new variables to your code:\n",
    "\n",
    "<font color = 'DarkOrchid'> CODE: </font>\n",
    "\n",
    "Measurement = Base.classes.measurement\n",
    "\n",
    "Station = Base.classes.station"
   ]
  },
  {
   "cell_type": "markdown",
   "metadata": {},
   "source": [
    "<font color = 'Salmon'> </font>\n",
    "\n",
    "<font color = 'Red'> </font>\n",
    "\n",
    "<font color = 'SkyBlue'> IMPORTANT </font>\n",
    "\n",
    "<font color = 'DarkOrchid'> CODE: </font>\n",
    "\n",
    "<a name = 'SQLAlchemy Create Engine'>  </a>"
   ]
  }
 ],
 "metadata": {
  "language_info": {
   "name": "python"
  },
  "orig_nbformat": 4
 },
 "nbformat": 4,
 "nbformat_minor": 2
}
