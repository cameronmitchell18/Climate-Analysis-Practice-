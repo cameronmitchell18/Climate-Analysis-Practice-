{
 "cells": [
  {
   "cell_type": "markdown",
   "metadata": {},
   "source": [
    "### <font color = 'Salmon'> SQLAlchemy ORM </font>\n",
    "\n",
    "ORM: Object Relational Mapper\n",
    "\n",
    "ORM allows you to create classes in your code that can be mapped to specific tables in a given database.\n",
    "\n",
    "This allows us to create a special type of system called a <font color = 'Red'> decoupled system. </font>\n",
    "\n",
    "the less coupling in our code, the better. If there are a bunch of relationships between all of your coding components and one of them breaks, everything breaks.\n",
    "\n",
    "The ORM helps us keep our systems decoupled.\n",
    "\n",
    "remember that your references will be to classes in your code instead of specific tables in the database, and that we'll be able to influence each class independently."
   ]
  },
  {
   "cell_type": "markdown",
   "metadata": {},
   "source": [
    "<font color = 'Salmon'> </font>\n",
    "\n",
    "<font color = 'Red'> </font>"
   ]
  }
 ],
 "metadata": {
  "language_info": {
   "name": "python"
  },
  "orig_nbformat": 4
 },
 "nbformat": 4,
 "nbformat_minor": 2
}
